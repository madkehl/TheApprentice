{
 "cells": [
  {
   "cell_type": "code",
   "execution_count": 1,
   "metadata": {},
   "outputs": [],
   "source": [
    "from bs4 import BeautifulSoup\n",
    "from selenium import webdriver\n",
    "from selenium.webdriver.common.keys import Keys\n",
    "import time\n",
    "import pandas as pd"
   ]
  },
  {
   "cell_type": "code",
   "execution_count": 2,
   "metadata": {},
   "outputs": [],
   "source": [
    "url = \"https://my.pitt.edu\"\n",
    "email = '***'\n",
    "passw = '***'"
   ]
  },
  {
   "cell_type": "code",
   "execution_count": 3,
   "metadata": {},
   "outputs": [],
   "source": [
    "ids = pd.read_csv('/users/madke/documents/SBDL_ids.csv')"
   ]
  },
  {
   "cell_type": "code",
   "execution_count": 59,
   "metadata": {},
   "outputs": [],
   "source": [
    "def loginPitt(email = email, passw = passw):\n",
    "    '''\n",
    "    INPUT: user credentials\n",
    "    \n",
    "    OUTPUT: driver\n",
    "    \n",
    "    logs in to Pitt\n",
    "    \n",
    "    '''\n",
    "    driver = webdriver.Chrome()\n",
    "    driver.get(url)\n",
    "\n",
    "    menu_btn = driver.find_element_by_id(\"headerMenuDropdown\")\n",
    "    menu_btn.click()\n",
    "\n",
    "    signin_btn = driver.find_element_by_xpath(\"/html/body/div[1]/div[4]/section[1]/div/nav/div/div[2]/ul/li[2]/ul/li[1]/a\")\n",
    "    signin_btn.click()\n",
    "\n",
    "    username = driver.find_element_by_xpath(\"/html/body/div/div/div[1]/div/form/div[1]/input\")\n",
    "    username.send_keys(email)\n",
    "\n",
    "    password =  driver.find_element_by_xpath(\"/html/body/div/div/div[1]/div/form/div[2]/input\")\n",
    "    password.send_keys(passw)\n",
    "\n",
    "    submit_btn = driver.find_element_by_xpath(\"/html/body/div/div/div[1]/div/form/button\")\n",
    "    submit_btn.click()\n",
    "    \n",
    "    return(driver)"
   ]
  },
  {
   "cell_type": "markdown",
   "metadata": {},
   "source": [
    "CALL SELF FOR SECURITY"
   ]
  },
  {
   "cell_type": "code",
   "execution_count": 7,
   "metadata": {},
   "outputs": [],
   "source": [
    "def openOutlook(driver):\n",
    "    '''\n",
    "    INPUT:driver\n",
    "    \n",
    "    OUTPUT: driver\n",
    "    \n",
    "    '''\n",
    "    email_btn = driver.find_element_by_xpath(\"/html/body/div[1]/div[5]/div[3]/div/div[2]/div[4]/div[3]/div[1]/div[1]/div/a\")\n",
    "    email_btn.click()\n",
    "    driver.switch_to.window(driver.window_handles[1])\n",
    "    email_search_activate = driver.find_element_by_id(\"searchBoxId-Mail\")\n",
    "    email_search_activate.click()\n",
    "    email_search = driver.find_element_by_xpath(\"/html/body/div[2]/div/div[1]/div/div[1]/div[2]/div/div/div/div/div[1]/div[2]/div/div/div/div/div[1]/div/div[2]/div/input\")\n",
    "    search_btn = driver.find_element_by_xpath(\"/html/body/div[2]/div/div[1]/div/div[1]/div[2]/div/div/div/div/div[1]/div[2]/div/div/div/div/div[1]/button\")\n",
    "    \n",
    "    return(driver)"
   ]
  },
  {
   "cell_type": "code",
   "execution_count": 45,
   "metadata": {},
   "outputs": [],
   "source": [
    "def return_name(email, driver):\n",
    "    '''\n",
    "    takes an email and gets name\n",
    "    '''\n",
    "    email_search.send_keys(email)\n",
    "    email_search_activate.click()\n",
    "    time.sleep(2)\n",
    "    try:\n",
    "        results = driver.find_element_by_id(\"searchSuggestionsCallout\")\n",
    "        soup = BeautifulSoup(results.get_attribute('innerHTML'), 'html.parser')\n",
    "        name = soup.find(\"div\", {\"id\":\"searchSuggestion-0\" })['aria-label']\n",
    "    \n",
    "        email_search.send_keys(Keys.CONTROL + \"a\")\n",
    "        email_search.send_keys(Keys.DELETE)\n",
    "    \n",
    "        return(name, driver)\n",
    "    except:\n",
    "        email_search.send_keys(Keys.CONTROL + \"a\")\n",
    "        email_search.send_keys(Keys.DELETE)\n",
    "        return('NONE', driver)\n",
    "    "
   ]
  },
  {
   "cell_type": "code",
   "execution_count": null,
   "metadata": {},
   "outputs": [],
   "source": [
    "def full_path_to_names(ids):\n",
    "    '''\n",
    "    INPUT:\n",
    "    \n",
    "    OUTPUT:\n",
    "    '''\n",
    "    emails = ids.iloc['email'].values\n",
    "    driver = loginPitt()\n",
    "    print('PLEASE CONFIRM IN BROWSER')\n",
    "    time.sleep(30)\n",
    "    driver = openOutlook(driver)\n",
    "    \n",
    "    name_ls = []\n",
    "    for i in emails:\n",
    "        name = return_name(i, driver)[0]\n",
    "        print(name)\n",
    "        name_ls.append(name)\n",
    "        \n",
    "    emails2names = pd.DataFrame({\n",
    "        'email': emails, \n",
    "        'name': names,\n",
    "        'credit': ids['credit'],\n",
    "        'action': ids['action']\n",
    "    })\n",
    "    \n",
    "    return(emails2names)"
   ]
  },
  {
   "cell_type": "code",
   "execution_count": 51,
   "metadata": {},
   "outputs": [],
   "source": []
  },
  {
   "cell_type": "code",
   "execution_count": 58,
   "metadata": {},
   "outputs": [],
   "source": [
    "for_sona = emails2names[emails2names['action'].isnull()]\n",
    "for_sona.to_csv('/users/madke/documents/111020for_sona.csv')"
   ]
  },
  {
   "cell_type": "code",
   "execution_count": null,
   "metadata": {},
   "outputs": [],
   "source": []
  }
 ],
 "metadata": {
  "kernelspec": {
   "display_name": "apprentice",
   "language": "python",
   "name": "apprentice"
  },
  "language_info": {
   "codemirror_mode": {
    "name": "ipython",
    "version": 3
   },
   "file_extension": ".py",
   "mimetype": "text/x-python",
   "name": "python",
   "nbconvert_exporter": "python",
   "pygments_lexer": "ipython3",
   "version": "3.8.3"
  }
 },
 "nbformat": 4,
 "nbformat_minor": 2
}
