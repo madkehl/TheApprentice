{
 "cells": [
  {
   "cell_type": "code",
   "execution_count": 1,
   "metadata": {},
   "outputs": [],
   "source": [
    "from bs4 import BeautifulSoup\n",
    "from selenium import webdriver\n",
    "from selenium.webdriver.common.keys import Keys\n",
    "import time\n",
    "import pandas as pd"
   ]
  },
  {
   "cell_type": "code",
   "execution_count": 19,
   "metadata": {},
   "outputs": [],
   "source": [
    "keys = pd.read_csv('./011edlcredit.csv')"
   ]
  },
  {
   "cell_type": "code",
   "execution_count": 12,
   "metadata": {},
   "outputs": [],
   "source": [
    "url = \"https://pitt.sona-systems.com/\"\n",
    "email = '***'\n",
    "passw = '***'\n",
    "study_name = 'Emotions in Daily Life'"
   ]
  },
  {
   "cell_type": "code",
   "execution_count": 7,
   "metadata": {},
   "outputs": [],
   "source": [
    "def transform(name):\n",
    "    '''\n",
    "    takes names as given from the other script and cleans them\n",
    "    '''\n",
    "    name_s = name.split(',')\n",
    "    new_name = name_s[1] + ' ' + name_s[0]\n",
    "    return(new_name.lstrip())"
   ]
  },
  {
   "cell_type": "code",
   "execution_count": 15,
   "metadata": {},
   "outputs": [],
   "source": [
    "def sonaLogin(email = email, passw = passw):\n",
    "    '''\n",
    "    INPUT: user credentials\n",
    "    \n",
    "    OUTPUT: webdriver\n",
    "    '''\n",
    "    driver = webdriver.Chrome()\n",
    "    driver.get(url)\n",
    "\n",
    "    username = driver.find_element_by_xpath(\"/html/body/form/div[3]/section/section/section/div[2]/div[1]/section/div/div/div/div/input[1]\")\n",
    "    username.send_keys(email)\n",
    "\n",
    "    password =  driver.find_element_by_xpath(\"/html/body/form/div[3]/section/section/section/div[2]/div[1]/section/div/div/div/div/input[2]\")\n",
    "    password.send_keys(passw)\n",
    "\n",
    "    submit_btn = driver.find_element_by_xpath(\"/html/body/form/div[3]/section/section/section/div[2]/div[1]/section/div/div/div/div/input[3]\")\n",
    "    submit_btn.click()\n",
    "\n",
    "    to_credit = driver.find_element_by_xpath(\"/html/body/form/div[3]/section/section/section/div[2]/div[1]/section[1]/div/a[3]\")\n",
    "    to_credit.click()\n",
    "    \n",
    "    return(driver)\n",
    "    "
   ]
  },
  {
   "cell_type": "code",
   "execution_count": 25,
   "metadata": {},
   "outputs": [],
   "source": [
    "def give_credit(driver, study_name):\n",
    "    '''\n",
    "    INPUT: study_name, webdriver\n",
    "    \n",
    "    OUTPUT: none, makes edits to sona credit options\n",
    "    \n",
    "    iterates through table, assesses if it matches study, locates name cell, checks table to see if credit updates,\n",
    "    then marks the appropriate box\n",
    "    \n",
    "    Submit is not automated to allow for spot checks\n",
    "    '''\n",
    "    credits = driver.find_element_by_css_selector('#no-more-tables > table')\n",
    "\n",
    "#iterate through participants\n",
    "    row_num = 0\n",
    "    for row in credits.find_elements_by_css_selector('tr'):\n",
    "        isSBDL = False\n",
    "        keep_next = False\n",
    "        checked_credit = False\n",
    "        gets_credit = False\n",
    "    \n",
    "    #iterate through row\n",
    "        for cell in row.find_elements_by_tag_name('td'):\n",
    "        #make sure it is sbdl\n",
    "            if cell.text == study_name:\n",
    "                isSBDL = True\n",
    "                print('isSBDL')\n",
    "        #placeholder\n",
    "            elif 'Online study' in cell.text and isSBDL == True:\n",
    "                keep_next = True\n",
    "        #check credit\n",
    "            elif keep_next == True:\n",
    "            \n",
    "                key = cell.text\n",
    "                print(key + ' NOW SEARCHING')\n",
    "                part_row = keys[keys['cleanname'] == key]\n",
    "            \n",
    "                if len(part_row) > 0:\n",
    "                    print(key + ' FOUND')\n",
    "                    if part_row['credit'].mean() == 1:\n",
    "                        gets_credit = True\n",
    "                    checked_credit = True\n",
    "                else:\n",
    "                    print(key + ' NOT FOUND')\n",
    "            \n",
    "            \n",
    "                keep_next = False\n",
    "            \n",
    "            elif checked_credit == True:\n",
    "                time.sleep(2)\n",
    "                if gets_credit == True:\n",
    "                    grant_credit = driver.find_element_by_xpath('//tr[' + str(row_num) + ']/td[5]/div/label[2]/label')\n",
    "                    print(key + ' GRANT')\n",
    "                    time.sleep(1)\n",
    "                    grant_credit.click()\n",
    "                else:\n",
    "                    time.sleep(1)\n",
    "                    ens = driver.find_element_by_xpath('//tr[' + str(row_num) + ']/td[5]/div/label[4]/label')\n",
    "                    print(key + ' ENS')\n",
    "                    ens.click()\n",
    "        row_num += 1\n",
    "            "
   ]
  },
  {
   "cell_type": "code",
   "execution_count": 21,
   "metadata": {},
   "outputs": [],
   "source": [
    "def full_path_credit(keys = keys, study_name = study_name, email = email, passw = passw):\n",
    "    keys['cleanname'] = keys['name'].apply(transform)\n",
    "    driver = sonaLogin(email,passw)\n",
    "    give_credit(driver, study_name)"
   ]
  },
  {
   "cell_type": "code",
   "execution_count": null,
   "metadata": {},
   "outputs": [],
   "source": [
    "full_path_credit()"
   ]
  },
  {
   "cell_type": "code",
   "execution_count": null,
   "metadata": {},
   "outputs": [],
   "source": []
  }
 ],
 "metadata": {
  "kernelspec": {
   "display_name": "apprentice",
   "language": "python",
   "name": "apprentice"
  },
  "language_info": {
   "codemirror_mode": {
    "name": "ipython",
    "version": 3
   },
   "file_extension": ".py",
   "mimetype": "text/x-python",
   "name": "python",
   "nbconvert_exporter": "python",
   "pygments_lexer": "ipython3",
   "version": "3.8.3"
  }
 },
 "nbformat": 4,
 "nbformat_minor": 2
}
