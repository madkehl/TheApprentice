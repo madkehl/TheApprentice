{
 "cells": [
  {
   "cell_type": "code",
   "execution_count": 1,
   "metadata": {},
   "outputs": [],
   "source": [
    "from bs4 import BeautifulSoup\n",
    "from selenium import webdriver\n",
    "from selenium.webdriver.common.keys import Keys\n",
    "import time\n",
    "import pandas as pd"
   ]
  },
  {
   "cell_type": "code",
   "execution_count": 2,
   "metadata": {},
   "outputs": [],
   "source": [
    "url = \"https://app.metricwire.com/\"\n",
    "my_email = '***'\n",
    "my_passw = '***'"
   ]
  },
  {
   "cell_type": "code",
   "execution_count": 45,
   "metadata": {},
   "outputs": [],
   "source": [
    "date = '02-11-2020'"
   ]
  },
  {
   "cell_type": "code",
   "execution_count": 24,
   "metadata": {},
   "outputs": [],
   "source": [
    "path_SBDL = \"#root > div > main > div > div > div.MuiGrid-root.MuiGrid-item.MuiGrid-grid-xs-12.MuiGrid-grid-sm-12.MuiGrid-grid-md-8 > div > div.MuiCardContent-root > table > tbody > tr:nth-child(2) > td:nth-child(3) > a > span.MuiButton-label\"\n",
    "path_EDL = \"#root > div > main > div > div > div.MuiGrid-root.MuiGrid-item.MuiGrid-grid-xs-12.MuiGrid-grid-sm-12.MuiGrid-grid-md-8 > div > div.MuiCardContent-root > table > tbody > tr:nth-child(1) > td:nth-child(3) > a > span.MuiButton-label\"\n",
    "\n",
    "pgconst_SBDL = 4\n",
    "pgconst_EDL = 4\n"
   ]
  },
  {
   "cell_type": "code",
   "execution_count": 25,
   "metadata": {},
   "outputs": [],
   "source": [
    "def loginMetricWire(my_email = my_email, my_passw = my_passw, OS = 'Mac'):\n",
    "    '''\n",
    "    INPUT: str formatted username and password for MetricWire account\n",
    "    \n",
    "    OUTPUT: driver for next function, simply opens in a test browser\n",
    "    '''\n",
    "    driver = webdriver.Chrome()\n",
    "    \n",
    "    \n",
    "    driver.get(url)\n",
    "\n",
    "    time.sleep(3)\n",
    "    email_inp = driver.find_element_by_css_selector(\"#root > div > div > div > div > div > form > div:nth-child(4) > div > input\")\n",
    "    email_inp.send_keys(my_email)\n",
    "\n",
    "    pass_inp = driver.find_element_by_css_selector(\"#root > div > div > div > div > div > form > div:nth-child(5) > div > input\")\n",
    "    pass_inp.send_keys(my_passw)\n",
    "\n",
    "    login_btn = driver.find_element_by_css_selector(\"#root > div > div > div > div > div > form > div.card-action.border-0.text-right.mt-3 > button > span.MuiButton-label\")\n",
    "    login_btn.click()\n",
    "    return(driver)\n",
    "\n",
    "def openStudy(study_path, driver, pgconst):\n",
    "    '''\n",
    "    INPUT: path to workspace for study of interest\n",
    "    \n",
    "    OUTPUT: None, simply operates in test browser\n",
    "    \n",
    "    Notes: login must be run before running this \n",
    "    '''\n",
    "    \n",
    "    try:\n",
    "        sbdl_wksp = driver.find_element_by_css_selector(study_path)\n",
    "        sbdl_wksp.click()\n",
    "    except:\n",
    "        time.sleep(3)\n",
    "        sbdl_wksp = driver.find_element_by_css_selector(study_path)\n",
    "        sbdl_wksp.click()\n",
    "\n",
    "    time.sleep(1)\n",
    "    sbdl_study = driver.find_element_by_css_selector(\"#root > div > main > div > div.MuiGrid-root.MuiGrid-container.MuiGrid-spacing-xs-4 > div:nth-child(2) > a > div > div > div.MuiGrid-root.MuiGrid-item.MuiGrid-grid-xs-8\")\n",
    "    sbdl_study.click()\n",
    "\n",
    "    time.sleep(1)\n",
    "    sbdl_view = driver.find_element_by_css_selector(\"#root > div > main > div > div > div > div > table > tbody > tr > td:nth-child(4) > a > button > span.MuiButton-label\")\n",
    "    sbdl_view.click()\n",
    "\n",
    "    time.sleep(5)\n",
    "    part_btn = driver.find_element_by_css_selector(\"#root > div > main > div > div > header > div > div > div > div > div > button:nth-child(6)\")\n",
    "    part_btn.click()\n",
    "\n",
    "    time.sleep(7)\n",
    "\n",
    "    expand_btn = driver.find_element_by_xpath(\"/html/body/div[1]/div/main/div/div/div/div/div[2]/div/div/div/table/tfoot/tr/td/div/div[2]/div\")\n",
    "    expand_btn.click()\n",
    "\n",
    "    sel300 = driver.find_element_by_xpath(\"/html/body/div[\" + str(pgconst) + \"]/div[3]/ul/li[3]\")\n",
    "    sel300.click()\n",
    "    return(driver)"
   ]
  },
  {
   "cell_type": "code",
   "execution_count": 36,
   "metadata": {},
   "outputs": [],
   "source": [
    "def get_emails(date, driver):\n",
    "    '''\n",
    "    INPUT: date of enrollment that you are interested in grabbing\n",
    "    \n",
    "    OUTPUT: result list of email and number of submissions\n",
    "    '''\n",
    "    table = driver.find_element_by_css_selector('#root > div > main > div > div > div > div > div.MuiPaper-root.MuiCard-root.MuiPaper-elevation1.MuiPaper-rounded > div > div > div > div.jss97 > div > div > div > table > tbody')\n",
    "\n",
    "#iterate through participants\n",
    "\n",
    "    participant_email = []\n",
    "    participant_subm = []\n",
    "    for row in table.find_elements_by_css_selector('tr'):\n",
    "        try:\n",
    "            row_num = row.get_attribute(\"index\")\n",
    "            try:\n",
    "                enroll_date = driver.find_element_by_css_selector('#root > div > main > div > div > div > div > div.MuiPaper-root.MuiCard-root.MuiPaper-elevation1.MuiPaper-rounded > div > div > div > div.jss97 > div > div > div > table > tbody > tr:nth-child(' + str(row_num) + ') > td:nth-child(10)')\n",
    "            except:\n",
    "                time.sleep(3)\n",
    "                enroll_date = driver.find_element_by_css_selector('#root > div > main > div > div > div > div > div.MuiPaper-root.MuiCard-root.MuiPaper-elevation1.MuiPaper-rounded > div > div > div > div.jss97 > div > div > div > table > tbody > tr:nth-child(' + str(row_num) + ') > td:nth-child(10)')\n",
    "            \n",
    "            if enroll_date.text[:10] == date:\n",
    "                email_ob = driver.find_element_by_css_selector('#root > div > main > div > div > div > div > div.MuiPaper-root.MuiCard-root.MuiPaper-elevation1.MuiPaper-rounded > div > div > div > div.jss97 > div > div > div > table > tbody > tr:nth-child(' + str(row_num) + ') > td:nth-child(5)')\n",
    "                email = email_ob.text.split('@')[0]\n",
    "                print(email)\n",
    "                participant_email.append(email)\n",
    "        \n",
    "                launch_btn = driver.find_element_by_css_selector('#root > div > main > div > div > div > div > div.MuiPaper-root.MuiCard-root.MuiPaper-elevation1.MuiPaper-rounded > div > div > div > div.jss97 > div > div > div > table > tbody > tr:nth-child(' + str(row_num) + ') > td:nth-child(7) > a')\n",
    "                participant_link = launch_btn.get_attribute('href')\n",
    "        \n",
    "                driver.execute_script(\"window.open('{}');\".format(participant_link))\n",
    "                driver.switch_to.window(driver.window_handles[1])\n",
    "                time.sleep(3)\n",
    "                try:\n",
    "                    fullsched_btn = driver.find_element_by_css_selector('#root > div > main > div > div > div.MuiGrid-root.MuiGrid-item.MuiGrid-grid-xs-8 > div > div > div > div > div > div > div:nth-child(1) > div > div:nth-child(2) > div > button')\n",
    "                    fullsched_btn.click()\n",
    "                except:\n",
    "                    time.sleep(3)\n",
    "                    fullsched_btn = driver.find_element_by_css_selector('#root > div > main > div > div > div.MuiGrid-root.MuiGrid-item.MuiGrid-grid-xs-8 > div > div > div > div > div > div > div:nth-child(1) > div > div:nth-child(2) > div > button')\n",
    "                    fullsched_btn.click()\n",
    "                time.sleep(2)\n",
    "                submissions = driver.find_element_by_css_selector('#root > div > main > div > div > div.MuiGrid-root.MuiGrid-item.MuiGrid-grid-xs-8 > div > div > div > div > div > div > div.MuiCardContent-root.text-xs-center > div > div:nth-child(4) > h3').text\n",
    "                print(submissions)\n",
    "                participant_subm.append(submissions)\n",
    "                driver.close()\n",
    "                driver.switch_to.window(driver.window_handles[0])\n",
    "        except:\n",
    "            pass\n",
    "    return(participant_email, participant_subm)\n",
    "        \n",
    "       "
   ]
  },
  {
   "cell_type": "code",
   "execution_count": 39,
   "metadata": {},
   "outputs": [],
   "source": [
    "def full_email_path(study_path, date, pgconst, cutoff):\n",
    "    '''\n",
    "    INPUT: study_path, date of enrollment\n",
    "    \n",
    "    OUTPUT: result df\n",
    "    \n",
    "    Runs everything above in sequence\n",
    "    '''\n",
    "    driver = loginMetricWire()\n",
    "    driver =openStudy(study_path, driver, pgconst)\n",
    "    participant_email, participant_subm = get_emails(date, driver)\n",
    "    \n",
    "    results = pd.DataFrame({\n",
    "    \n",
    "        'email': participant_email,\n",
    "        'surveys': participant_subm,\n",
    "        'credit': [1 if int(i) > cutoff else 0 for i in participant_subm],\n",
    "        'action': [float('nan') for i in participant_subm]\n",
    "    \n",
    "        })\n",
    "    return results"
   ]
  },
  {
   "cell_type": "code",
   "execution_count": null,
   "metadata": {},
   "outputs": [],
   "source": [
    "edl_0111 = full_email_path(path_EDL, date, pgconst_EDL, cutoff = 32)"
   ]
  },
  {
   "cell_type": "code",
   "execution_count": 47,
   "metadata": {},
   "outputs": [],
   "source": [
    "edl_0111.to_csv('./edlIDs.csv')"
   ]
  },
  {
   "cell_type": "code",
   "execution_count": null,
   "metadata": {},
   "outputs": [],
   "source": []
  }
 ],
 "metadata": {
  "kernelspec": {
   "display_name": "apprentice",
   "language": "python",
   "name": "apprentice"
  },
  "language_info": {
   "codemirror_mode": {
    "name": "ipython",
    "version": 3
   },
   "file_extension": ".py",
   "mimetype": "text/x-python",
   "name": "python",
   "nbconvert_exporter": "python",
   "pygments_lexer": "ipython3",
   "version": "3.8.3"
  }
 },
 "nbformat": 4,
 "nbformat_minor": 2
}
