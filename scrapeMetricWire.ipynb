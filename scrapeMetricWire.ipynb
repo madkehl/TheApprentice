{
 "cells": [
  {
   "cell_type": "code",
   "execution_count": 1,
   "metadata": {},
   "outputs": [],
   "source": [
    "from bs4 import BeautifulSoup\n",
    "from selenium import webdriver\n",
    "from selenium.webdriver.common.keys import Keys\n",
    "import time\n",
    "import pandas as pd"
   ]
  },
  {
   "cell_type": "code",
   "execution_count": 54,
   "metadata": {},
   "outputs": [],
   "source": [
    "url = \"https://app.metricwire.com/\"\n",
    "my_email = '***'\n",
    "my_passw = '***'"
   ]
  },
  {
   "cell_type": "code",
   "execution_count": 16,
   "metadata": {},
   "outputs": [],
   "source": [
    "date = '27-10-2020'"
   ]
  },
  {
   "cell_type": "code",
   "execution_count": 92,
   "metadata": {},
   "outputs": [],
   "source": [
    "driver = webdriver.Chrome()\n",
    "driver.get(url)\n",
    "\n",
    "time.sleep(1)\n",
    "email_inp = driver.find_element_by_css_selector(\"#root > div > div > div > div > div > form > div:nth-child(4) > div > input\")\n",
    "email_inp.send_keys(my_email)\n",
    "\n",
    "pass_inp = driver.find_element_by_css_selector(\"#root > div > div > div > div > div > form > div:nth-child(5) > div > input\")\n",
    "pass_inp.send_keys(my_passw)\n",
    "\n",
    "login_btn = driver.find_element_by_css_selector(\"#root > div > div > div > div > div > form > div.card-action.border-0.text-right.mt-3 > button > span.MuiButton-label\")\n",
    "login_btn.click()\n",
    "\n",
    "time.sleep(3)\n",
    "sbdl_wksp = driver.find_element_by_css_selector(\"#root > div > main > div > div > div.MuiGrid-root.MuiGrid-item.MuiGrid-grid-xs-12.MuiGrid-grid-sm-12.MuiGrid-grid-md-8 > div > div.MuiCardContent-root > table > tbody > tr:nth-child(2) > td:nth-child(3) > a > span.MuiButton-label\")\n",
    "sbdl_wksp.click()\n",
    "\n",
    "time.sleep(1)\n",
    "sbdl_study = driver.find_element_by_css_selector(\"#root > div > main > div > div.MuiGrid-root.MuiGrid-container.MuiGrid-spacing-xs-4 > div:nth-child(2) > a > div > div > div.MuiGrid-root.MuiGrid-item.MuiGrid-grid-xs-8\")\n",
    "sbdl_study.click()\n",
    "\n",
    "time.sleep(1)\n",
    "sbdl_view = driver.find_element_by_css_selector(\"#root > div > main > div > div > div > div > table > tbody > tr > td:nth-child(4) > a > button > span.MuiButton-label\")\n",
    "sbdl_view.click()\n",
    "\n",
    "time.sleep(5)\n",
    "part_btn = driver.find_element_by_css_selector(\"#root > div > main > div > div > header > div > div > div > div > div > button:nth-child(6)\")\n",
    "part_btn.click()\n",
    "\n",
    "time.sleep(7)\n",
    "sort_btn = driver.find_element_by_css_selector(\"#root > div > main > div > div > div > div > div.MuiPaper-root.MuiCard-root.MuiPaper-elevation1.MuiPaper-rounded > div > div > div > div.jss97 > div > div > div > table > thead > tr > th:nth-child(10) > span\")\n",
    "sort_btn.click()\n",
    "\n",
    "time.sleep(3)\n",
    "expand_btn = driver.find_element_by_xpath(\"/html/body/div[1]/div/main/div/div/div/div/div[2]/div/div/div/table/tfoot/tr/td/div/div[2]/div\")\n",
    "expand_btn.click()\n",
    "\n",
    "sel300 = driver.find_element_by_xpath(\"/html/body/div[4]/div[3]/ul/li[3]\")\n",
    "sel300.click()"
   ]
  },
  {
   "cell_type": "code",
   "execution_count": null,
   "metadata": {},
   "outputs": [],
   "source": [
    "table = driver.find_element_by_css_selector('#root > div > main > div > div > div > div > div.MuiPaper-root.MuiCard-root.MuiPaper-elevation1.MuiPaper-rounded > div > div > div > div.jss97 > div > div > div > table > tbody')\n",
    "\n",
    "#iterate through participants\n",
    "row_num = 1\n",
    "participant_info = []\n",
    "for row in table.find_elements_by_css_selector('tr'):\n",
    "    row_num +=1 \n",
    "    by_part = []\n",
    "    enroll_date = driver.find_element_by_css_selector('#root > div > main > div > div > div > div > div.MuiPaper-root.MuiCard-root.MuiPaper-elevation1.MuiPaper-rounded > div > div > div > div.jss97 > div > div > div > table > tbody > tr:nth-child(' + str(row_num) + ') > td:nth-child(10)')\n",
    " \n",
    "    if enroll_date.text[:10] == date:\n",
    "        email_ob = driver.find_element_by_css_selector('#root > div > main > div > div > div > div > div.MuiPaper-root.MuiCard-root.MuiPaper-elevation1.MuiPaper-rounded > div > div > div > div.jss97 > div > div > div > table > tbody > tr:nth-child(' + str(row_num) + ') > td:nth-child(5)')\n",
    "        email = email_ob.text.split('@')[0]\n",
    "        print(email)\n",
    "        by_part.append(email)\n",
    "        \n",
    "        launch_btn = driver.find_element_by_css_selector('#root > div > main > div > div > div > div > div.MuiPaper-root.MuiCard-root.MuiPaper-elevation1.MuiPaper-rounded > div > div > div > div.jss97 > div > div > div > table > tbody > tr:nth-child(' + str(row_num) + ') > td:nth-child(7) > a')\n",
    "        participant_link = launch_btn.get_attribute('href')\n",
    "        \n",
    "        driver.execute_script(\"window.open('{}');\".format(participant_link))\n",
    "        driver.switch_to.window(driver.window_handles[1])\n",
    "        time.sleep(5\n",
    "        fullsched_btn = driver.find_element_by_css_selector('#root > div > main > div > div > div.MuiGrid-root.MuiGrid-item.MuiGrid-grid-xs-8 > div > div > div > div > div > div > div:nth-child(1) > div > div:nth-child(2) > div > button')\n",
    "        fullsched_btn.click()\n",
    "        time.sleep(2)\n",
    "        submissions = driver.find_element_by_css_selector('#root > div > main > div > div > div.MuiGrid-root.MuiGrid-item.MuiGrid-grid-xs-8 > div > div > div > div > div > div > div.MuiCardContent-root.text-xs-center > div > div:nth-child(4) > h3').text\n",
    "        print(submissions)\n",
    "        by_part.append(submissions)\n",
    "        driver.close()\n",
    "        driver.switch_to.window(driver.window_handles[0])\n",
    "    participant_info.append(by_part)\n",
    "        \n",
    "       "
   ]
  },
  {
   "cell_type": "code",
   "execution_count": null,
   "metadata": {},
   "outputs": [],
   "source": []
  }
 ],
 "metadata": {
  "kernelspec": {
   "display_name": "Python 3",
   "language": "python",
   "name": "python3"
  },
  "language_info": {
   "codemirror_mode": {
    "name": "ipython",
    "version": 3
   },
   "file_extension": ".py",
   "mimetype": "text/x-python",
   "name": "python",
   "nbconvert_exporter": "python",
   "pygments_lexer": "ipython3",
   "version": "3.6.4"
  }
 },
 "nbformat": 4,
 "nbformat_minor": 2
}
